{
 "cells": [
  {
   "cell_type": "markdown",
   "metadata": {},
   "source": [
    "# Projet data-science 2A\n",
    "par Occitane Barbaux\n",
    "\n",
    "https://www.youtube.com/watch?v=4tx-l9Gxlm0&feature=youtu.be\n",
    "\n",
    "## Sommaire\n",
    "\n",
    "1. Introduction\n",
    " * 1.1 Objectif\n",
    " * 1.2 Contexte\n",
    "2. Exploration de la base \n",
    " * 2.1 Bibliothèques et données\n",
    " * 2.2 Valeurs manquantes\n",
    " * 2.3 Exploration des corrélations\n",
    "3. Préparation des données\n",
    " * 3.1 Transformation des variables catégorielles\n",
    " * 3.2 Ajout de variables\n",
    " * 3.3 Séparation des bases\n",
    "4. Modélisation\n",
    " * 4.1 Validation croisée\n",
    " * 4.2 Random Forest\n",
    " * 4.3 Variables importantes\n",
    " * 4.4 KNN\n",
    " * 4.5 Choix de K\n",
    "5. Comparaison\n",
    " * 5.1 Extraction des erreurs\n",
    " * 5.2 Faux positifs et faux négatifs\n",
    " * 5.3 Intersection des ensembles d'erreur\n",
    " * 5.4 Comparaison des deux modèles\n",
    "6. Conclusion\n",
    "\n",
    "    \n",
    "## 1. Introduction\n",
    "\n",
    "### 1.1 Objectif\n",
    "\n",
    "Ce projet a pour but de prévoir si des individus gagnent plus de 50K par an. \n",
    "\n",
    "### 1.2 Contexte\n",
    "\n",
    "La base utilisée est extraite de l'[US Adult Census de 1994](http://mlr.cs.umass.edu/ml/machine-learning-databases/adult/). Elle comprend environ 49 000 observations.\n",
    "Cette base a l'avantage de présenter une certaine diversité, avec des variables binaires, continues et catégorielles, ainsi que des valeurs manquantes.\n",
    "\n",
    "Les données étant labellisées, puisque le Census nous permet de connaitre le niveau de revenu de l'individu, il s'agit d'un problème en apprentissage supervisé.\n",
    "\n",
    "La sortie étant catégorielle (et binaire), il s'agit d'un problème de classification\n"
   ]
  },
  {
   "cell_type": "markdown",
   "metadata": {},
   "source": [
    "## 2. Traitement de la base\n",
    "\n",
    "Dans cette partie, nous allons réaliser trois étapes :\n",
    "* Récupérer la base \n",
    "* Traiter les valeurs manquantes\n",
    "* Explorer les données"
   ]
  },
  {
   "cell_type": "markdown",
   "metadata": {},
   "source": [
    "\n",
    "### 2.1 Bibliothèques et données\n",
    "\n",
    "Dans un premier temps, nous allons simplement importer les bibliothèques nécessaires à notre travail."
   ]
  },
  {
   "cell_type": "code",
   "execution_count": 58,
   "metadata": {
    "collapsed": true
   },
   "outputs": [],
   "source": [
    "# Utilisations des données\n",
    "import numpy as np\n",
    "import pandas as pd\n",
    "\n",
    "# Algorithmes de modélisation\n",
    "from sklearn.tree import DecisionTreeClassifier\n",
    "from sklearn.linear_model import LogisticRegression\n",
    "from sklearn.neighbors import KNeighborsClassifier\n",
    "from sklearn.naive_bayes import GaussianNB\n",
    "from sklearn.svm import SVC, LinearSVC\n",
    "from sklearn.ensemble import RandomForestClassifier , GradientBoostingClassifier\n",
    "\n",
    "# Aides à la modélisation\n",
    "from sklearn.preprocessing import Imputer , Normalizer , scale\n",
    "from sklearn.cross_validation import train_test_split , StratifiedKFold\n",
    "from sklearn.feature_selection import RFECV\n",
    "\n",
    "# Evaluation\n",
    "from sklearn.model_selection import cross_val_score\n",
    "from sklearn.metrics import confusion_matrix\n",
    "from sklearn.metrics import classification_report\n",
    "\n",
    "# Visualisation\n",
    "import matplotlib as mpl\n",
    "import matplotlib.pyplot as plt\n",
    "import matplotlib.pylab as pylab\n",
    "import seaborn as sns\n",
    "\n",
    "# Configuration de la visualisation\n",
    "%matplotlib inline\n",
    "mpl.style.use( 'ggplot' )\n",
    "sns.set_style( 'white' )\n",
    "pylab.rcParams[ 'figure.figsize' ] = 8 , 6"
   ]
  },
  {
   "cell_type": "markdown",
   "metadata": {},
   "source": [
    "Dans un second, nous allons transformer nos bases de travail en Dataframe.\n",
    "On se réfère à la page de description de la base pour la liste des variables existantes.\n",
    "\n",
    "Au passage, on supprime la premiere ligne de *test*, qui n'est pas valide."
   ]
  },
  {
   "cell_type": "code",
   "execution_count": 59,
   "metadata": {},
   "outputs": [
    {
     "name": "stdout",
     "output_type": "stream",
     "text": [
      "Datasets: full: (48842, 15) test: (16281, 15) train; (32561, 15)\n"
     ]
    }
   ],
   "source": [
    "columns = ['Age','Workclass','Sampling Weight','Education','Education Num','Marital Status',\n",
    "           'Occupation','Relationship','Race','Sex','Capital Gain','Capital Loss',\n",
    "           'Hours/Week','Country','Above/Below 50K']\n",
    "train = pd.read_csv(\"http://mlr.cs.umass.edu/ml/machine-learning-databases/adult/adult.data\", names=columns)\n",
    "test    = pd.read_csv(\"http://mlr.cs.umass.edu/ml/machine-learning-databases/adult/adult.test\", names=columns)\n",
    "\n",
    "test = test.drop(test.index[0])\n",
    "\n",
    "full = train.append( test , ignore_index = True )\n",
    "\n",
    "print ('Datasets:' , 'full:' , full.shape , 'test:' , test.shape, 'train;', train.shape)"
   ]
  },
  {
   "cell_type": "code",
   "execution_count": 60,
   "metadata": {},
   "outputs": [
    {
     "data": {
      "text/html": [
       "<div>\n",
       "<style>\n",
       "    .dataframe thead tr:only-child th {\n",
       "        text-align: right;\n",
       "    }\n",
       "\n",
       "    .dataframe thead th {\n",
       "        text-align: left;\n",
       "    }\n",
       "\n",
       "    .dataframe tbody tr th {\n",
       "        vertical-align: top;\n",
       "    }\n",
       "</style>\n",
       "<table border=\"1\" class=\"dataframe\">\n",
       "  <thead>\n",
       "    <tr style=\"text-align: right;\">\n",
       "      <th></th>\n",
       "      <th>Age</th>\n",
       "      <th>Workclass</th>\n",
       "      <th>Sampling Weight</th>\n",
       "      <th>Education</th>\n",
       "      <th>Education Num</th>\n",
       "      <th>Marital Status</th>\n",
       "      <th>Occupation</th>\n",
       "      <th>Relationship</th>\n",
       "      <th>Race</th>\n",
       "      <th>Sex</th>\n",
       "      <th>Capital Gain</th>\n",
       "      <th>Capital Loss</th>\n",
       "      <th>Hours/Week</th>\n",
       "      <th>Country</th>\n",
       "      <th>Above/Below 50K</th>\n",
       "    </tr>\n",
       "  </thead>\n",
       "  <tbody>\n",
       "    <tr>\n",
       "      <th>1</th>\n",
       "      <td>25</td>\n",
       "      <td>Private</td>\n",
       "      <td>226802.0</td>\n",
       "      <td>11th</td>\n",
       "      <td>7.0</td>\n",
       "      <td>Never-married</td>\n",
       "      <td>Machine-op-inspct</td>\n",
       "      <td>Own-child</td>\n",
       "      <td>Black</td>\n",
       "      <td>Male</td>\n",
       "      <td>0.0</td>\n",
       "      <td>0.0</td>\n",
       "      <td>40.0</td>\n",
       "      <td>United-States</td>\n",
       "      <td>&lt;=50K.</td>\n",
       "    </tr>\n",
       "    <tr>\n",
       "      <th>2</th>\n",
       "      <td>38</td>\n",
       "      <td>Private</td>\n",
       "      <td>89814.0</td>\n",
       "      <td>HS-grad</td>\n",
       "      <td>9.0</td>\n",
       "      <td>Married-civ-spouse</td>\n",
       "      <td>Farming-fishing</td>\n",
       "      <td>Husband</td>\n",
       "      <td>White</td>\n",
       "      <td>Male</td>\n",
       "      <td>0.0</td>\n",
       "      <td>0.0</td>\n",
       "      <td>50.0</td>\n",
       "      <td>United-States</td>\n",
       "      <td>&lt;=50K.</td>\n",
       "    </tr>\n",
       "    <tr>\n",
       "      <th>3</th>\n",
       "      <td>28</td>\n",
       "      <td>Local-gov</td>\n",
       "      <td>336951.0</td>\n",
       "      <td>Assoc-acdm</td>\n",
       "      <td>12.0</td>\n",
       "      <td>Married-civ-spouse</td>\n",
       "      <td>Protective-serv</td>\n",
       "      <td>Husband</td>\n",
       "      <td>White</td>\n",
       "      <td>Male</td>\n",
       "      <td>0.0</td>\n",
       "      <td>0.0</td>\n",
       "      <td>40.0</td>\n",
       "      <td>United-States</td>\n",
       "      <td>&gt;50K.</td>\n",
       "    </tr>\n",
       "    <tr>\n",
       "      <th>4</th>\n",
       "      <td>44</td>\n",
       "      <td>Private</td>\n",
       "      <td>160323.0</td>\n",
       "      <td>Some-college</td>\n",
       "      <td>10.0</td>\n",
       "      <td>Married-civ-spouse</td>\n",
       "      <td>Machine-op-inspct</td>\n",
       "      <td>Husband</td>\n",
       "      <td>Black</td>\n",
       "      <td>Male</td>\n",
       "      <td>7688.0</td>\n",
       "      <td>0.0</td>\n",
       "      <td>40.0</td>\n",
       "      <td>United-States</td>\n",
       "      <td>&gt;50K.</td>\n",
       "    </tr>\n",
       "    <tr>\n",
       "      <th>5</th>\n",
       "      <td>18</td>\n",
       "      <td>?</td>\n",
       "      <td>103497.0</td>\n",
       "      <td>Some-college</td>\n",
       "      <td>10.0</td>\n",
       "      <td>Never-married</td>\n",
       "      <td>?</td>\n",
       "      <td>Own-child</td>\n",
       "      <td>White</td>\n",
       "      <td>Female</td>\n",
       "      <td>0.0</td>\n",
       "      <td>0.0</td>\n",
       "      <td>30.0</td>\n",
       "      <td>United-States</td>\n",
       "      <td>&lt;=50K.</td>\n",
       "    </tr>\n",
       "  </tbody>\n",
       "</table>\n",
       "</div>"
      ],
      "text/plain": [
       "  Age   Workclass  Sampling Weight      Education  Education Num  \\\n",
       "1  25     Private         226802.0           11th            7.0   \n",
       "2  38     Private          89814.0        HS-grad            9.0   \n",
       "3  28   Local-gov         336951.0     Assoc-acdm           12.0   \n",
       "4  44     Private         160323.0   Some-college           10.0   \n",
       "5  18           ?         103497.0   Some-college           10.0   \n",
       "\n",
       "        Marital Status          Occupation Relationship    Race      Sex  \\\n",
       "1        Never-married   Machine-op-inspct    Own-child   Black     Male   \n",
       "2   Married-civ-spouse     Farming-fishing      Husband   White     Male   \n",
       "3   Married-civ-spouse     Protective-serv      Husband   White     Male   \n",
       "4   Married-civ-spouse   Machine-op-inspct      Husband   Black     Male   \n",
       "5        Never-married                   ?    Own-child   White   Female   \n",
       "\n",
       "   Capital Gain  Capital Loss  Hours/Week         Country Above/Below 50K  \n",
       "1           0.0           0.0        40.0   United-States          <=50K.  \n",
       "2           0.0           0.0        50.0   United-States          <=50K.  \n",
       "3           0.0           0.0        40.0   United-States           >50K.  \n",
       "4        7688.0           0.0        40.0   United-States           >50K.  \n",
       "5           0.0           0.0        30.0   United-States          <=50K.  "
      ]
     },
     "execution_count": 60,
     "metadata": {},
     "output_type": "execute_result"
    }
   ],
   "source": [
    "test.head()"
   ]
  },
  {
   "cell_type": "markdown",
   "metadata": {},
   "source": [
    "### 2.2 Valeurs manquantes\n",
    "\n",
    "On vérifie la proportion de valeurs manquantes."
   ]
  },
  {
   "cell_type": "code",
   "execution_count": 2,
   "metadata": {},
   "outputs": [
    {
     "ename": "NameError",
     "evalue": "name 'full' is not defined",
     "output_type": "error",
     "traceback": [
      "\u001b[1;31m---------------------------------------------------------------------------\u001b[0m",
      "\u001b[1;31mNameError\u001b[0m                                 Traceback (most recent call last)",
      "\u001b[1;32m<ipython-input-2-5b14fbe5e1ec>\u001b[0m in \u001b[0;36m<module>\u001b[1;34m()\u001b[0m\n\u001b[1;32m----> 1\u001b[1;33m \u001b[0mfull\u001b[0m\u001b[1;33m.\u001b[0m\u001b[0mWorkclass\u001b[0m\u001b[1;33m.\u001b[0m\u001b[0mvalue_counts\u001b[0m\u001b[1;33m(\u001b[0m\u001b[1;33m)\u001b[0m\u001b[1;33m\u001b[0m\u001b[0m\n\u001b[0m",
      "\u001b[1;31mNameError\u001b[0m: name 'full' is not defined"
     ]
    }
   ],
   "source": [
    "full.Workclass.value_counts()"
   ]
  },
  {
   "cell_type": "markdown",
   "metadata": {},
   "source": [
    "Dans cette base, les valeurs manquantes sont codées par un *?*.\n",
    "Apres vérification, les variables *Occupation* et *Workclass* présentent un bon nombre de valeurs manquantes.\n",
    "\n",
    "Cela représente seulement 3000 observations. On va donc **supprimer les données manquantes**.\n",
    "On remarque que les populations n'ayant pas répondu sont quasiment les mêmes pour les deux questions."
   ]
  },
  {
   "cell_type": "code",
   "execution_count": 65,
   "metadata": {},
   "outputs": [
    {
     "data": {
      "text/plain": [
       " Private             33906\n",
       " Self-emp-not-inc     3862\n",
       " Local-gov            3136\n",
       " State-gov            1981\n",
       " Self-emp-inc         1695\n",
       " Federal-gov          1432\n",
       " Without-pay            21\n",
       " Never-worked           10\n",
       "Name: Workclass, dtype: int64"
      ]
     },
     "execution_count": 65,
     "metadata": {},
     "output_type": "execute_result"
    }
   ],
   "source": [
    "for i in full.columns:\n",
    "    full[i].replace(' ?', np.nan, inplace=True)\n",
    "full.dropna()    \n",
    "full.Workclass.value_counts()"
   ]
  },
  {
   "cell_type": "markdown",
   "metadata": {},
   "source": [
    "### 2.3 Exploration des corrélations\n",
    "\n",
    "Notre base possède 15 variables. Il est temps d'explorer la base pour voir celles qui ont le plus d'influence sur le salaire. Pour cela, il est plus facile d'avoir déja la variable du salaire *Above/Below 50K* sous forme binaire.\n",
    "\n",
    "On voit qu'environ 24% des individus de la base gagnent plus de 50K."
   ]
  },
  {
   "cell_type": "code",
   "execution_count": 68,
   "metadata": {},
   "outputs": [
    {
     "data": {
      "text/html": [
       "<div>\n",
       "<style>\n",
       "    .dataframe thead tr:only-child th {\n",
       "        text-align: right;\n",
       "    }\n",
       "\n",
       "    .dataframe thead th {\n",
       "        text-align: left;\n",
       "    }\n",
       "\n",
       "    .dataframe tbody tr th {\n",
       "        vertical-align: top;\n",
       "    }\n",
       "</style>\n",
       "<table border=\"1\" class=\"dataframe\">\n",
       "  <thead>\n",
       "    <tr style=\"text-align: right;\">\n",
       "      <th></th>\n",
       "      <th>Sampling Weight</th>\n",
       "      <th>Education Num</th>\n",
       "      <th>Capital Gain</th>\n",
       "      <th>Capital Loss</th>\n",
       "      <th>Hours/Week</th>\n",
       "      <th>Above 50K</th>\n",
       "    </tr>\n",
       "  </thead>\n",
       "  <tbody>\n",
       "    <tr>\n",
       "      <th>count</th>\n",
       "      <td>4.884200e+04</td>\n",
       "      <td>48842.000000</td>\n",
       "      <td>48842.000000</td>\n",
       "      <td>48842.000000</td>\n",
       "      <td>48842.000000</td>\n",
       "      <td>48842.000000</td>\n",
       "    </tr>\n",
       "    <tr>\n",
       "      <th>mean</th>\n",
       "      <td>1.896641e+05</td>\n",
       "      <td>10.078089</td>\n",
       "      <td>1079.067626</td>\n",
       "      <td>87.502314</td>\n",
       "      <td>40.422382</td>\n",
       "      <td>0.239282</td>\n",
       "    </tr>\n",
       "    <tr>\n",
       "      <th>std</th>\n",
       "      <td>1.056040e+05</td>\n",
       "      <td>2.570973</td>\n",
       "      <td>7452.019058</td>\n",
       "      <td>403.004552</td>\n",
       "      <td>12.391444</td>\n",
       "      <td>0.426649</td>\n",
       "    </tr>\n",
       "    <tr>\n",
       "      <th>min</th>\n",
       "      <td>1.228500e+04</td>\n",
       "      <td>1.000000</td>\n",
       "      <td>0.000000</td>\n",
       "      <td>0.000000</td>\n",
       "      <td>1.000000</td>\n",
       "      <td>0.000000</td>\n",
       "    </tr>\n",
       "    <tr>\n",
       "      <th>25%</th>\n",
       "      <td>1.175505e+05</td>\n",
       "      <td>9.000000</td>\n",
       "      <td>0.000000</td>\n",
       "      <td>0.000000</td>\n",
       "      <td>40.000000</td>\n",
       "      <td>0.000000</td>\n",
       "    </tr>\n",
       "    <tr>\n",
       "      <th>50%</th>\n",
       "      <td>1.781445e+05</td>\n",
       "      <td>10.000000</td>\n",
       "      <td>0.000000</td>\n",
       "      <td>0.000000</td>\n",
       "      <td>40.000000</td>\n",
       "      <td>0.000000</td>\n",
       "    </tr>\n",
       "    <tr>\n",
       "      <th>75%</th>\n",
       "      <td>2.376420e+05</td>\n",
       "      <td>12.000000</td>\n",
       "      <td>0.000000</td>\n",
       "      <td>0.000000</td>\n",
       "      <td>45.000000</td>\n",
       "      <td>0.000000</td>\n",
       "    </tr>\n",
       "    <tr>\n",
       "      <th>max</th>\n",
       "      <td>1.490400e+06</td>\n",
       "      <td>16.000000</td>\n",
       "      <td>99999.000000</td>\n",
       "      <td>4356.000000</td>\n",
       "      <td>99.000000</td>\n",
       "      <td>1.000000</td>\n",
       "    </tr>\n",
       "  </tbody>\n",
       "</table>\n",
       "</div>"
      ],
      "text/plain": [
       "       Sampling Weight  Education Num  Capital Gain  Capital Loss  \\\n",
       "count     4.884200e+04   48842.000000  48842.000000  48842.000000   \n",
       "mean      1.896641e+05      10.078089   1079.067626     87.502314   \n",
       "std       1.056040e+05       2.570973   7452.019058    403.004552   \n",
       "min       1.228500e+04       1.000000      0.000000      0.000000   \n",
       "25%       1.175505e+05       9.000000      0.000000      0.000000   \n",
       "50%       1.781445e+05      10.000000      0.000000      0.000000   \n",
       "75%       2.376420e+05      12.000000      0.000000      0.000000   \n",
       "max       1.490400e+06      16.000000  99999.000000   4356.000000   \n",
       "\n",
       "         Hours/Week     Above 50K  \n",
       "count  48842.000000  48842.000000  \n",
       "mean      40.422382      0.239282  \n",
       "std       12.391444      0.426649  \n",
       "min        1.000000      0.000000  \n",
       "25%       40.000000      0.000000  \n",
       "50%       40.000000      0.000000  \n",
       "75%       45.000000      0.000000  \n",
       "max       99.000000      1.000000  "
      ]
     },
     "execution_count": 68,
     "metadata": {},
     "output_type": "execute_result"
    }
   ],
   "source": [
    "full['Above 50K'] = pd.Series( np.where( ((full['Above/Below 50K'] == ' >50K')|(full['Above/Below 50K'] == ' >50K.')) , 1 , 0 ) , name = 'Above 50K' )\n",
    "full.describe()"
   ]
  },
  {
   "cell_type": "markdown",
   "metadata": {},
   "source": [
    "\n",
    "On commence par s'intéresser à la relation entre le **salaire et l'age**.\n",
    "En effet, il parait difficile de gagner un haut revenu dès la fin des études. On s'attend donc à ce que la probabilité d'avoir un haut salaire croisse avec l'age.\n",
    "\n",
    "La classe d'age étudiée va de 17 à 90ans."
   ]
  },
  {
   "cell_type": "code",
   "execution_count": 7,
   "metadata": {},
   "outputs": [
    {
     "data": {
      "text/plain": [
       "<seaborn.axisgrid.FacetGrid at 0x26ec87f2e10>"
      ]
     },
     "execution_count": 7,
     "metadata": {},
     "output_type": "execute_result"
    },
    {
     "data": {
      "image/png": "[encoded data removed]",
      "text/plain": [
       "<matplotlib.figure.Figure at 0x26ec8b115c0>"
      ]
     },
     "metadata": {},
     "output_type": "display_data"
    }
   ],
   "source": [
    "a = sns.FacetGrid( full, hue = 'Above 50K', aspect=4 )\n",
    "a.map(sns.kdeplot, 'Age', shade= True )\n",
    "a.set(xlim=(0 , 99), ylim=(0, 0.04))\n",
    "a.add_legend()"
   ]
  },
  {
   "cell_type": "markdown",
   "metadata": {},
   "source": [
    "On peut voir que les personnes agées d'entre **35 et 50 ans** sont sur représentées parmis celles gagnant un haut revenu.\n",
    "\n",
    "\n",
    "On va maintenant observer l'effet du **sexe de l'individu**. Les femmes étant généralement sous représentées dans les professions à hauts salaires, on s'attend à un effet négatif lorsque l'individu est de sexe feminin."
   ]
  },
  {
   "cell_type": "code",
   "execution_count": 69,
   "metadata": {},
   "outputs": [
    {
     "data": {
      "text/plain": [
       "<matplotlib.axes._subplots.AxesSubplot at 0x26ec995b7f0>"
      ]
     },
     "execution_count": 69,
     "metadata": {},
     "output_type": "execute_result"
    },
    {
     "data": {
      "image/png": "[encoded data removed]",
      "text/plain": [
       "<matplotlib.figure.Figure at 0x26ec9729400>"
      ]
     },
     "metadata": {},
     "output_type": "display_data"
    }
   ],
   "source": [
    "sns.barplot(x = 'Sex', y = 'Above 50K', data=full)"
   ]
  },
  {
   "cell_type": "markdown",
   "metadata": {},
   "source": [
    "Effectivement, l'effet observé est conséquent: Seules **10% des femmes de la base gagnent plus de 50K, pour 30% des hommes**.\n",
    "\n",
    "On se demande au passage si l'effet de l'age est le meme pour les deux sexes."
   ]
  },
  {
   "cell_type": "code",
   "execution_count": 70,
   "metadata": {},
   "outputs": [
    {
     "data": {
      "text/plain": [
       "<matplotlib.axes._subplots.AxesSubplot at 0x26ec8818860>"
      ]
     },
     "execution_count": 70,
     "metadata": {},
     "output_type": "execute_result"
    },
    {
     "data": {
      "image/png": "[encoded data removed]",
      "text/plain": [
       "<matplotlib.figure.Figure at 0x26ec995b9e8>"
      ]
     },
     "metadata": {},
     "output_type": "display_data"
    }
   ],
   "source": [
    "full.Age=pd.to_numeric(full.Age, downcast='float')\n",
    "sns.violinplot(x = 'Sex', y = 'Age', hue = 'Above 50K', data = full, split =True)"
   ]
  },
  {
   "cell_type": "markdown",
   "metadata": {},
   "source": [
    "L'age semble avoir **le même effet** pour les deux sexes.\n",
    "\n",
    "On va maintenant s'intéresser au **type d'emploiement**. Il est possible pour un individu d'etre employé dans plusieurs types d'agences, notament publiques. Voyons si les différences ont une importance."
   ]
  },
  {
   "cell_type": "code",
   "execution_count": 10,
   "metadata": {},
   "outputs": [
    {
     "data": {
      "text/plain": [
       "<matplotlib.axes._subplots.AxesSubplot at 0x26ec8b2da20>"
      ]
     },
     "execution_count": 10,
     "metadata": {},
     "output_type": "execute_result"
    },
    {
     "data": {
      "image/png": "[encoded data removed]",
      "text/plain": [
       "<matplotlib.figure.Figure at 0x26ec87ce6d8>"
      ]
     },
     "metadata": {},
     "output_type": "display_data"
    }
   ],
   "source": [
    "sns.barplot(x = 'Workclass', y = 'Above 50K', data=full)"
   ]
  },
  {
   "cell_type": "markdown",
   "metadata": {},
   "source": [
    "Les différentes agences fédérales sont plutot **homogènes**, et peuvent donc corespondre à une catégorie unique.\n",
    "Par contre, on observe une large différence entre les deux types de *self employement*. Il vaut donc mieux les laisser séparés.\n",
    "\n",
    "On regarde aussi la répartition des revenus selon le **statut familial**."
   ]
  },
  {
   "cell_type": "code",
   "execution_count": 71,
   "metadata": {},
   "outputs": [
    {
     "data": {
      "text/plain": [
       "<matplotlib.axes._subplots.AxesSubplot at 0x26ec88918d0>"
      ]
     },
     "execution_count": 71,
     "metadata": {},
     "output_type": "execute_result"
    },
    {
     "data": {
      "image/png": "[encoded data removed]",
      "text/plain": [
       "<matplotlib.figure.Figure at 0x26ec9653b70>"
      ]
     },
     "metadata": {},
     "output_type": "display_data"
    }
   ],
   "source": [
    "sns.barplot(x = 'Relationship', y = 'Above 50K', data=full)"
   ]
  },
  {
   "cell_type": "markdown",
   "metadata": {},
   "source": [
    "Clairement, les individus **mariés** sont avantagés. \n",
    "Les parents célibataires aux contraires sont sous représentés.\n",
    "\n",
    "On s'intéresse maintenant à la variable ***Race***"
   ]
  },
  {
   "cell_type": "code",
   "execution_count": 12,
   "metadata": {},
   "outputs": [
    {
     "data": {
      "text/plain": [
       "<matplotlib.axes._subplots.AxesSubplot at 0x26ec94900b8>"
      ]
     },
     "execution_count": 12,
     "metadata": {},
     "output_type": "execute_result"
    },
    {
     "data": {
      "image/png": "[encoded data removed]",
      "text/plain": [
       "<matplotlib.figure.Figure at 0x26ec8d87b00>"
      ]
     },
     "metadata": {},
     "output_type": "display_data"
    }
   ],
   "source": [
    "sns.barplot(x = 'Race', y = 'Above 50K', data=full)"
   ]
  },
  {
   "cell_type": "markdown",
   "metadata": {},
   "source": [
    "Les personnes blanches ou d'origine asiatiques sont **sur représentées** par rapport aux autres catégories.\n",
    "\n",
    "La variable ***Education*** devrait aussi avoir une forte influence. On s'attend à une proportion de hauts salaires croissante avec le nombre d'années d'études."
   ]
  },
  {
   "cell_type": "code",
   "execution_count": 72,
   "metadata": {},
   "outputs": [
    {
     "data": {
      "text/plain": [
       "<matplotlib.axes._subplots.AxesSubplot at 0x26ec88ea2b0>"
      ]
     },
     "execution_count": 72,
     "metadata": {},
     "output_type": "execute_result"
    },
    {
     "data": {
      "image/png": "[encoded data removed]",
      "text/plain": [
       "<matplotlib.figure.Figure at 0x26ec9975860>"
      ]
     },
     "metadata": {},
     "output_type": "display_data"
    }
   ],
   "source": [
    "sns.boxplot(x ='Above 50K', y = 'Education Num', data = full)"
   ]
  },
  {
   "cell_type": "markdown",
   "metadata": {},
   "source": [
    "Effectivement, le niveau d'étude est globalement plus haut pour le groupe des hauts salaires. Les études semblent inflencer le salaire à partir de 10 années.\n",
    "\n",
    "On vérifie si c'est toujours valable avec une distinction par sexes.\n"
   ]
  },
  {
   "cell_type": "code",
   "execution_count": 14,
   "metadata": {},
   "outputs": [
    {
     "data": {
      "text/plain": [
       "<matplotlib.axes._subplots.AxesSubplot at 0x26ec95706a0>"
      ]
     },
     "execution_count": 14,
     "metadata": {},
     "output_type": "execute_result"
    },
    {
     "data": {
      "image/png": "[encoded data removed]",
      "text/plain": [
       "<matplotlib.figure.Figure at 0x26eca834630>"
      ]
     },
     "metadata": {},
     "output_type": "display_data"
    }
   ],
   "source": [
    "sns.boxplot(x ='Above 50K', y = 'Education Num',hue = 'Sex', data = full,)"
   ]
  },
  {
   "cell_type": "markdown",
   "metadata": {},
   "source": [
    "Le niveau d'étude médian est plus haut pour les femmes (14ans au lieu de 12 pour les hommes). L'effet est donc légèrement différent."
   ]
  },
  {
   "cell_type": "markdown",
   "metadata": {},
   "source": [
    "## 3. Préparation des données\n",
    "\n",
    "Dans cette partie nous allons :\n",
    "* Transformer les variables catégorielles en *dummy variables*\n",
    "* Ajouter les variables nécessaires\n",
    "* Séparer la base en celle de test et celle d'entrainement "
   ]
  },
  {
   "cell_type": "markdown",
   "metadata": {},
   "source": [
    "### 3.1 Transformation des variables catégorielles\n",
    "\n",
    "Nous allons ensuite nous interresser aux types de variables.\n",
    "Il existe deux grands types de variables:\n",
    "* Les variables **numériques**, contenant des nombres entiers ou réels, telles *Capital Gain* ou *Age*  \n",
    "* Les variables **catégorielles**, qui contiennent un nombre limité et fixés de valeurs, comme ici le pays d'origine *Country*\n"
   ]
  },
  {
   "cell_type": "code",
   "execution_count": 15,
   "metadata": {},
   "outputs": [
    {
     "data": {
      "text/html": [
       "<div>\n",
       "<style>\n",
       "    .dataframe thead tr:only-child th {\n",
       "        text-align: right;\n",
       "    }\n",
       "\n",
       "    .dataframe thead th {\n",
       "        text-align: left;\n",
       "    }\n",
       "\n",
       "    .dataframe tbody tr th {\n",
       "        vertical-align: top;\n",
       "    }\n",
       "</style>\n",
       "<table border=\"1\" class=\"dataframe\">\n",
       "  <thead>\n",
       "    <tr style=\"text-align: right;\">\n",
       "      <th></th>\n",
       "      <th>Age</th>\n",
       "      <th>Workclass</th>\n",
       "      <th>Sampling Weight</th>\n",
       "      <th>Education</th>\n",
       "      <th>Education Num</th>\n",
       "      <th>Marital Status</th>\n",
       "      <th>Occupation</th>\n",
       "      <th>Relationship</th>\n",
       "      <th>Race</th>\n",
       "      <th>Sex</th>\n",
       "      <th>Capital Gain</th>\n",
       "      <th>Capital Loss</th>\n",
       "      <th>Hours/Week</th>\n",
       "      <th>Country</th>\n",
       "      <th>Above/Below 50K</th>\n",
       "      <th>Above 50K</th>\n",
       "    </tr>\n",
       "  </thead>\n",
       "  <tbody>\n",
       "    <tr>\n",
       "      <th>0</th>\n",
       "      <td>39.0</td>\n",
       "      <td>State-gov</td>\n",
       "      <td>77516.0</td>\n",
       "      <td>Bachelors</td>\n",
       "      <td>13.0</td>\n",
       "      <td>Never-married</td>\n",
       "      <td>Adm-clerical</td>\n",
       "      <td>Not-in-family</td>\n",
       "      <td>White</td>\n",
       "      <td>Male</td>\n",
       "      <td>2174.0</td>\n",
       "      <td>0.0</td>\n",
       "      <td>40.0</td>\n",
       "      <td>United-States</td>\n",
       "      <td>&lt;=50K</td>\n",
       "      <td>0</td>\n",
       "    </tr>\n",
       "    <tr>\n",
       "      <th>1</th>\n",
       "      <td>50.0</td>\n",
       "      <td>Self-emp-not-inc</td>\n",
       "      <td>83311.0</td>\n",
       "      <td>Bachelors</td>\n",
       "      <td>13.0</td>\n",
       "      <td>Married-civ-spouse</td>\n",
       "      <td>Exec-managerial</td>\n",
       "      <td>Husband</td>\n",
       "      <td>White</td>\n",
       "      <td>Male</td>\n",
       "      <td>0.0</td>\n",
       "      <td>0.0</td>\n",
       "      <td>13.0</td>\n",
       "      <td>United-States</td>\n",
       "      <td>&lt;=50K</td>\n",
       "      <td>0</td>\n",
       "    </tr>\n",
       "    <tr>\n",
       "      <th>2</th>\n",
       "      <td>38.0</td>\n",
       "      <td>Private</td>\n",
       "      <td>215646.0</td>\n",
       "      <td>HS-grad</td>\n",
       "      <td>9.0</td>\n",
       "      <td>Divorced</td>\n",
       "      <td>Handlers-cleaners</td>\n",
       "      <td>Not-in-family</td>\n",
       "      <td>White</td>\n",
       "      <td>Male</td>\n",
       "      <td>0.0</td>\n",
       "      <td>0.0</td>\n",
       "      <td>40.0</td>\n",
       "      <td>United-States</td>\n",
       "      <td>&lt;=50K</td>\n",
       "      <td>0</td>\n",
       "    </tr>\n",
       "    <tr>\n",
       "      <th>3</th>\n",
       "      <td>53.0</td>\n",
       "      <td>Private</td>\n",
       "      <td>234721.0</td>\n",
       "      <td>11th</td>\n",
       "      <td>7.0</td>\n",
       "      <td>Married-civ-spouse</td>\n",
       "      <td>Handlers-cleaners</td>\n",
       "      <td>Husband</td>\n",
       "      <td>Black</td>\n",
       "      <td>Male</td>\n",
       "      <td>0.0</td>\n",
       "      <td>0.0</td>\n",
       "      <td>40.0</td>\n",
       "      <td>United-States</td>\n",
       "      <td>&lt;=50K</td>\n",
       "      <td>0</td>\n",
       "    </tr>\n",
       "    <tr>\n",
       "      <th>4</th>\n",
       "      <td>28.0</td>\n",
       "      <td>Private</td>\n",
       "      <td>338409.0</td>\n",
       "      <td>Bachelors</td>\n",
       "      <td>13.0</td>\n",
       "      <td>Married-civ-spouse</td>\n",
       "      <td>Prof-specialty</td>\n",
       "      <td>Wife</td>\n",
       "      <td>Black</td>\n",
       "      <td>Female</td>\n",
       "      <td>0.0</td>\n",
       "      <td>0.0</td>\n",
       "      <td>40.0</td>\n",
       "      <td>Cuba</td>\n",
       "      <td>&lt;=50K</td>\n",
       "      <td>0</td>\n",
       "    </tr>\n",
       "  </tbody>\n",
       "</table>\n",
       "</div>"
      ],
      "text/plain": [
       "    Age          Workclass  Sampling Weight   Education  Education Num  \\\n",
       "0  39.0          State-gov          77516.0   Bachelors           13.0   \n",
       "1  50.0   Self-emp-not-inc          83311.0   Bachelors           13.0   \n",
       "2  38.0            Private         215646.0     HS-grad            9.0   \n",
       "3  53.0            Private         234721.0        11th            7.0   \n",
       "4  28.0            Private         338409.0   Bachelors           13.0   \n",
       "\n",
       "        Marital Status          Occupation    Relationship    Race      Sex  \\\n",
       "0        Never-married        Adm-clerical   Not-in-family   White     Male   \n",
       "1   Married-civ-spouse     Exec-managerial         Husband   White     Male   \n",
       "2             Divorced   Handlers-cleaners   Not-in-family   White     Male   \n",
       "3   Married-civ-spouse   Handlers-cleaners         Husband   Black     Male   \n",
       "4   Married-civ-spouse      Prof-specialty            Wife   Black   Female   \n",
       "\n",
       "   Capital Gain  Capital Loss  Hours/Week         Country Above/Below 50K  \\\n",
       "0        2174.0           0.0        40.0   United-States           <=50K   \n",
       "1           0.0           0.0        13.0   United-States           <=50K   \n",
       "2           0.0           0.0        40.0   United-States           <=50K   \n",
       "3           0.0           0.0        40.0   United-States           <=50K   \n",
       "4           0.0           0.0        40.0            Cuba           <=50K   \n",
       "\n",
       "   Above 50K  \n",
       "0          0  \n",
       "1          0  \n",
       "2          0  \n",
       "3          0  \n",
       "4          0  "
      ]
     },
     "execution_count": 15,
     "metadata": {},
     "output_type": "execute_result"
    }
   ],
   "source": [
    "full.head()"
   ]
  },
  {
   "cell_type": "markdown",
   "metadata": {},
   "source": [
    "Les variables *Workclass*, *Education*, etc sont des variables catégorielles. Certains modèles ne traitent que des variables numériques. Pour nous permettre de les utiliser nous devons créer des **dummy variables** pour chaque variable catégorielle.\n",
    "\n",
    "Une **dummy variable** vaut 1 si l'individu possède une valeur fixée, et 0 sinon, et ce pour toutes les valeurs sauf une de la variable catégorielle.\n",
    "\n",
    "*Sex*, tout comme *Above/Below 50K*, est une variable binaire.\n"
   ]
  },
  {
   "cell_type": "code",
   "execution_count": 73,
   "metadata": {
    "collapsed": true
   },
   "outputs": [],
   "source": [
    "Sex = pd.Series( np.where( ((full.Sex == ' Male')|(full.Sex =='Male')) , 1 , 0 ) , name = 'Sex' )"
   ]
  },
  {
   "cell_type": "code",
   "execution_count": 74,
   "metadata": {},
   "outputs": [
    {
     "data": {
      "text/html": [
       "<div>\n",
       "<style>\n",
       "    .dataframe thead tr:only-child th {\n",
       "        text-align: right;\n",
       "    }\n",
       "\n",
       "    .dataframe thead th {\n",
       "        text-align: left;\n",
       "    }\n",
       "\n",
       "    .dataframe tbody tr th {\n",
       "        vertical-align: top;\n",
       "    }\n",
       "</style>\n",
       "<table border=\"1\" class=\"dataframe\">\n",
       "  <thead>\n",
       "    <tr style=\"text-align: right;\">\n",
       "      <th></th>\n",
       "      <th>Marital Status_ Divorced</th>\n",
       "      <th>Marital Status_ Married-AF-spouse</th>\n",
       "      <th>Marital Status_ Married-civ-spouse</th>\n",
       "      <th>Marital Status_ Married-spouse-absent</th>\n",
       "      <th>Marital Status_ Never-married</th>\n",
       "      <th>Marital Status_ Separated</th>\n",
       "      <th>Marital Status_ Widowed</th>\n",
       "    </tr>\n",
       "  </thead>\n",
       "  <tbody>\n",
       "    <tr>\n",
       "      <th>0</th>\n",
       "      <td>0</td>\n",
       "      <td>0</td>\n",
       "      <td>0</td>\n",
       "      <td>0</td>\n",
       "      <td>1</td>\n",
       "      <td>0</td>\n",
       "      <td>0</td>\n",
       "    </tr>\n",
       "    <tr>\n",
       "      <th>1</th>\n",
       "      <td>0</td>\n",
       "      <td>0</td>\n",
       "      <td>1</td>\n",
       "      <td>0</td>\n",
       "      <td>0</td>\n",
       "      <td>0</td>\n",
       "      <td>0</td>\n",
       "    </tr>\n",
       "    <tr>\n",
       "      <th>2</th>\n",
       "      <td>1</td>\n",
       "      <td>0</td>\n",
       "      <td>0</td>\n",
       "      <td>0</td>\n",
       "      <td>0</td>\n",
       "      <td>0</td>\n",
       "      <td>0</td>\n",
       "    </tr>\n",
       "    <tr>\n",
       "      <th>3</th>\n",
       "      <td>0</td>\n",
       "      <td>0</td>\n",
       "      <td>1</td>\n",
       "      <td>0</td>\n",
       "      <td>0</td>\n",
       "      <td>0</td>\n",
       "      <td>0</td>\n",
       "    </tr>\n",
       "    <tr>\n",
       "      <th>4</th>\n",
       "      <td>0</td>\n",
       "      <td>0</td>\n",
       "      <td>1</td>\n",
       "      <td>0</td>\n",
       "      <td>0</td>\n",
       "      <td>0</td>\n",
       "      <td>0</td>\n",
       "    </tr>\n",
       "  </tbody>\n",
       "</table>\n",
       "</div>"
      ],
      "text/plain": [
       "   Marital Status_ Divorced  Marital Status_ Married-AF-spouse  \\\n",
       "0                         0                                  0   \n",
       "1                         0                                  0   \n",
       "2                         1                                  0   \n",
       "3                         0                                  0   \n",
       "4                         0                                  0   \n",
       "\n",
       "   Marital Status_ Married-civ-spouse  Marital Status_ Married-spouse-absent  \\\n",
       "0                                   0                                      0   \n",
       "1                                   1                                      0   \n",
       "2                                   0                                      0   \n",
       "3                                   1                                      0   \n",
       "4                                   1                                      0   \n",
       "\n",
       "   Marital Status_ Never-married  Marital Status_ Separated  \\\n",
       "0                              1                          0   \n",
       "1                              0                          0   \n",
       "2                              0                          0   \n",
       "3                              0                          0   \n",
       "4                              0                          0   \n",
       "\n",
       "   Marital Status_ Widowed  \n",
       "0                        0  \n",
       "1                        0  \n",
       "2                        0  \n",
       "3                        0  \n",
       "4                        0  "
      ]
     },
     "execution_count": 74,
     "metadata": {},
     "output_type": "execute_result"
    }
   ],
   "source": [
    "# Crée une nouvelle variable pour chaque valeur unique de Marital Status\n",
    "maritalstatus = pd.get_dummies( full['Marital Status'] , prefix='Marital Status' )\n",
    "maritalstatus.head()"
   ]
  },
  {
   "cell_type": "markdown",
   "metadata": {},
   "source": [
    "On fait de même pour les autres variables catégorielles."
   ]
  },
  {
   "cell_type": "code",
   "execution_count": 75,
   "metadata": {
    "collapsed": true
   },
   "outputs": [],
   "source": [
    "# Crée une nouvelle variable pour chaque valeur unique de Workclass\n",
    "workclass = pd.get_dummies( full['Workclass'] , prefix='Workclass' )\n",
    "\n",
    "# Crée une nouvelle variable pour chaque valeur unique de Occupation\n",
    "occupation = pd.get_dummies( full['Occupation'] , prefix='Occupation' )\n",
    "\n",
    "# Crée une nouvelle variable pour chaque valeur unique de Relationship\n",
    "relationship = pd.get_dummies( full['Relationship'] , prefix='Relationship' )\n",
    "\n",
    "# Crée une nouvelle variable pour chaque valeur unique de Race\n",
    "race = pd.get_dummies( full['Race'] , prefix='Race' )\n",
    "\n",
    "# Crée une nouvelle variable pour chaque valeur unique de Country\n",
    "country = pd.get_dummies( full['Country'] , prefix='Country' )\n"
   ]
  },
  {
   "cell_type": "code",
   "execution_count": 76,
   "metadata": {},
   "outputs": [
    {
     "data": {
      "text/html": [
       "<div>\n",
       "<style>\n",
       "    .dataframe thead tr:only-child th {\n",
       "        text-align: right;\n",
       "    }\n",
       "\n",
       "    .dataframe thead th {\n",
       "        text-align: left;\n",
       "    }\n",
       "\n",
       "    .dataframe tbody tr th {\n",
       "        vertical-align: top;\n",
       "    }\n",
       "</style>\n",
       "<table border=\"1\" class=\"dataframe\">\n",
       "  <thead>\n",
       "    <tr style=\"text-align: right;\">\n",
       "      <th></th>\n",
       "      <th>Occupation_ Adm-clerical</th>\n",
       "      <th>Occupation_ Armed-Forces</th>\n",
       "      <th>Occupation_ Craft-repair</th>\n",
       "      <th>Occupation_ Exec-managerial</th>\n",
       "      <th>Occupation_ Farming-fishing</th>\n",
       "      <th>Occupation_ Handlers-cleaners</th>\n",
       "      <th>Occupation_ Machine-op-inspct</th>\n",
       "      <th>Occupation_ Other-service</th>\n",
       "      <th>Occupation_ Priv-house-serv</th>\n",
       "      <th>Occupation_ Prof-specialty</th>\n",
       "      <th>Occupation_ Protective-serv</th>\n",
       "      <th>Occupation_ Sales</th>\n",
       "      <th>Occupation_ Tech-support</th>\n",
       "      <th>Occupation_ Transport-moving</th>\n",
       "    </tr>\n",
       "  </thead>\n",
       "  <tbody>\n",
       "    <tr>\n",
       "      <th>0</th>\n",
       "      <td>1</td>\n",
       "      <td>0</td>\n",
       "      <td>0</td>\n",
       "      <td>0</td>\n",
       "      <td>0</td>\n",
       "      <td>0</td>\n",
       "      <td>0</td>\n",
       "      <td>0</td>\n",
       "      <td>0</td>\n",
       "      <td>0</td>\n",
       "      <td>0</td>\n",
       "      <td>0</td>\n",
       "      <td>0</td>\n",
       "      <td>0</td>\n",
       "    </tr>\n",
       "    <tr>\n",
       "      <th>1</th>\n",
       "      <td>0</td>\n",
       "      <td>0</td>\n",
       "      <td>0</td>\n",
       "      <td>1</td>\n",
       "      <td>0</td>\n",
       "      <td>0</td>\n",
       "      <td>0</td>\n",
       "      <td>0</td>\n",
       "      <td>0</td>\n",
       "      <td>0</td>\n",
       "      <td>0</td>\n",
       "      <td>0</td>\n",
       "      <td>0</td>\n",
       "      <td>0</td>\n",
       "    </tr>\n",
       "    <tr>\n",
       "      <th>2</th>\n",
       "      <td>0</td>\n",
       "      <td>0</td>\n",
       "      <td>0</td>\n",
       "      <td>0</td>\n",
       "      <td>0</td>\n",
       "      <td>1</td>\n",
       "      <td>0</td>\n",
       "      <td>0</td>\n",
       "      <td>0</td>\n",
       "      <td>0</td>\n",
       "      <td>0</td>\n",
       "      <td>0</td>\n",
       "      <td>0</td>\n",
       "      <td>0</td>\n",
       "    </tr>\n",
       "    <tr>\n",
       "      <th>3</th>\n",
       "      <td>0</td>\n",
       "      <td>0</td>\n",
       "      <td>0</td>\n",
       "      <td>0</td>\n",
       "      <td>0</td>\n",
       "      <td>1</td>\n",
       "      <td>0</td>\n",
       "      <td>0</td>\n",
       "      <td>0</td>\n",
       "      <td>0</td>\n",
       "      <td>0</td>\n",
       "      <td>0</td>\n",
       "      <td>0</td>\n",
       "      <td>0</td>\n",
       "    </tr>\n",
       "    <tr>\n",
       "      <th>4</th>\n",
       "      <td>0</td>\n",
       "      <td>0</td>\n",
       "      <td>0</td>\n",
       "      <td>0</td>\n",
       "      <td>0</td>\n",
       "      <td>0</td>\n",
       "      <td>0</td>\n",
       "      <td>0</td>\n",
       "      <td>0</td>\n",
       "      <td>1</td>\n",
       "      <td>0</td>\n",
       "      <td>0</td>\n",
       "      <td>0</td>\n",
       "      <td>0</td>\n",
       "    </tr>\n",
       "  </tbody>\n",
       "</table>\n",
       "</div>"
      ],
      "text/plain": [
       "   Occupation_ Adm-clerical  Occupation_ Armed-Forces  \\\n",
       "0                         1                         0   \n",
       "1                         0                         0   \n",
       "2                         0                         0   \n",
       "3                         0                         0   \n",
       "4                         0                         0   \n",
       "\n",
       "   Occupation_ Craft-repair  Occupation_ Exec-managerial  \\\n",
       "0                         0                            0   \n",
       "1                         0                            1   \n",
       "2                         0                            0   \n",
       "3                         0                            0   \n",
       "4                         0                            0   \n",
       "\n",
       "   Occupation_ Farming-fishing  Occupation_ Handlers-cleaners  \\\n",
       "0                            0                              0   \n",
       "1                            0                              0   \n",
       "2                            0                              1   \n",
       "3                            0                              1   \n",
       "4                            0                              0   \n",
       "\n",
       "   Occupation_ Machine-op-inspct  Occupation_ Other-service  \\\n",
       "0                              0                          0   \n",
       "1                              0                          0   \n",
       "2                              0                          0   \n",
       "3                              0                          0   \n",
       "4                              0                          0   \n",
       "\n",
       "   Occupation_ Priv-house-serv  Occupation_ Prof-specialty  \\\n",
       "0                            0                           0   \n",
       "1                            0                           0   \n",
       "2                            0                           0   \n",
       "3                            0                           0   \n",
       "4                            0                           1   \n",
       "\n",
       "   Occupation_ Protective-serv  Occupation_ Sales  Occupation_ Tech-support  \\\n",
       "0                            0                  0                         0   \n",
       "1                            0                  0                         0   \n",
       "2                            0                  0                         0   \n",
       "3                            0                  0                         0   \n",
       "4                            0                  0                         0   \n",
       "\n",
       "   Occupation_ Transport-moving  \n",
       "0                             0  \n",
       "1                             0  \n",
       "2                             0  \n",
       "3                             0  \n",
       "4                             0  "
      ]
     },
     "execution_count": 76,
     "metadata": {},
     "output_type": "execute_result"
    }
   ],
   "source": [
    "occupation.head()"
   ]
  },
  {
   "cell_type": "markdown",
   "metadata": {},
   "source": [
    "\n",
    "### 3.2 Ajout de variables"
   ]
  },
  {
   "cell_type": "markdown",
   "metadata": {},
   "source": [
    "Certaines variables peuvent être simplifiées.\n",
    "Ainsi, on donne une valeur 1 à *Maried* si l'individu est marié, et 0 sinon. \n",
    "\n",
    "La variable *Workclass* peut être simplifiée entre 'Gouv', 'Private', 'Self-emp-inc', 'Self-emp-not-inc' et 'Other' \n",
    "La variable *Race* peut être simplifiée entre 'White', 'Asian' et 'Other'.\n"
   ]
  },
  {
   "cell_type": "code",
   "execution_count": 77,
   "metadata": {
    "collapsed": true
   },
   "outputs": [],
   "source": [
    "full['Married']=relationship['Relationship_ Wife']+relationship['Relationship_ Husband']\n",
    "\n",
    "full['Gouv']=workclass['Workclass_ Federal-gov']+workclass['Workclass_ Local-gov']+workclass['Workclass_ State-gov']\n",
    "full['Private']=workclass['Workclass_ Private']\n",
    "full['Self-emp-inc']=workclass['Workclass_ Self-emp-inc']\n",
    "full['Self-emp-not-inc']=workclass['Workclass_ Self-emp-not-inc']\n",
    "\n",
    "full['Race_W']=race['Race_ White']\n",
    "full['Race_A']=race['Race_ Asian-Pac-Islander']\n"
   ]
  },
  {
   "cell_type": "markdown",
   "metadata": {},
   "source": [
    "C'est aussi l'occasion de rajouter des variables utiles. Ainsi, la variable *Relationship* nous permet d'isoler les parents célibataires.\n",
    "\n",
    "A partir de *Country*, on crée une variable *American* qui permet de savoir si l'individu est natif du pays."
   ]
  },
  {
   "cell_type": "code",
   "execution_count": 78,
   "metadata": {
    "collapsed": true
   },
   "outputs": [],
   "source": [
    "full['Single_P']=relationship['Relationship_ Own-child']\n",
    "\n",
    "full['American']=country['Country_ United-States']\n"
   ]
  },
  {
   "cell_type": "markdown",
   "metadata": {},
   "source": [
    "On supprime maintenant les variables catégorielles ou redondantes"
   ]
  },
  {
   "cell_type": "code",
   "execution_count": 79,
   "metadata": {
    "collapsed": true
   },
   "outputs": [],
   "source": [
    "full=full.drop(['Workclass','Sampling Weight','Sex','Education', 'Marital Status','Occupation','Relationship','Race','Country','Above/Below 50K'], 1)\n"
   ]
  },
  {
   "cell_type": "markdown",
   "metadata": {},
   "source": [
    "On ajoute les **Dummy variables** créées"
   ]
  },
  {
   "cell_type": "code",
   "execution_count": 80,
   "metadata": {},
   "outputs": [
    {
     "data": {
      "text/html": [
       "<div>\n",
       "<style>\n",
       "    .dataframe thead tr:only-child th {\n",
       "        text-align: right;\n",
       "    }\n",
       "\n",
       "    .dataframe thead th {\n",
       "        text-align: left;\n",
       "    }\n",
       "\n",
       "    .dataframe tbody tr th {\n",
       "        vertical-align: top;\n",
       "    }\n",
       "</style>\n",
       "<table border=\"1\" class=\"dataframe\">\n",
       "  <thead>\n",
       "    <tr style=\"text-align: right;\">\n",
       "      <th></th>\n",
       "      <th>Sex</th>\n",
       "      <th>Age</th>\n",
       "      <th>Education Num</th>\n",
       "      <th>Capital Gain</th>\n",
       "      <th>Capital Loss</th>\n",
       "      <th>Hours/Week</th>\n",
       "      <th>Above 50K</th>\n",
       "      <th>Married</th>\n",
       "      <th>Gouv</th>\n",
       "      <th>Private</th>\n",
       "      <th>...</th>\n",
       "      <th>Occupation_ Farming-fishing</th>\n",
       "      <th>Occupation_ Handlers-cleaners</th>\n",
       "      <th>Occupation_ Machine-op-inspct</th>\n",
       "      <th>Occupation_ Other-service</th>\n",
       "      <th>Occupation_ Priv-house-serv</th>\n",
       "      <th>Occupation_ Prof-specialty</th>\n",
       "      <th>Occupation_ Protective-serv</th>\n",
       "      <th>Occupation_ Sales</th>\n",
       "      <th>Occupation_ Tech-support</th>\n",
       "      <th>Occupation_ Transport-moving</th>\n",
       "    </tr>\n",
       "  </thead>\n",
       "  <tbody>\n",
       "    <tr>\n",
       "      <th>0</th>\n",
       "      <td>1</td>\n",
       "      <td>39.0</td>\n",
       "      <td>13.0</td>\n",
       "      <td>2174.0</td>\n",
       "      <td>0.0</td>\n",
       "      <td>40.0</td>\n",
       "      <td>0</td>\n",
       "      <td>0</td>\n",
       "      <td>1</td>\n",
       "      <td>0</td>\n",
       "      <td>...</td>\n",
       "      <td>0</td>\n",
       "      <td>0</td>\n",
       "      <td>0</td>\n",
       "      <td>0</td>\n",
       "      <td>0</td>\n",
       "      <td>0</td>\n",
       "      <td>0</td>\n",
       "      <td>0</td>\n",
       "      <td>0</td>\n",
       "      <td>0</td>\n",
       "    </tr>\n",
       "    <tr>\n",
       "      <th>1</th>\n",
       "      <td>1</td>\n",
       "      <td>50.0</td>\n",
       "      <td>13.0</td>\n",
       "      <td>0.0</td>\n",
       "      <td>0.0</td>\n",
       "      <td>13.0</td>\n",
       "      <td>0</td>\n",
       "      <td>1</td>\n",
       "      <td>0</td>\n",
       "      <td>0</td>\n",
       "      <td>...</td>\n",
       "      <td>0</td>\n",
       "      <td>0</td>\n",
       "      <td>0</td>\n",
       "      <td>0</td>\n",
       "      <td>0</td>\n",
       "      <td>0</td>\n",
       "      <td>0</td>\n",
       "      <td>0</td>\n",
       "      <td>0</td>\n",
       "      <td>0</td>\n",
       "    </tr>\n",
       "    <tr>\n",
       "      <th>2</th>\n",
       "      <td>1</td>\n",
       "      <td>38.0</td>\n",
       "      <td>9.0</td>\n",
       "      <td>0.0</td>\n",
       "      <td>0.0</td>\n",
       "      <td>40.0</td>\n",
       "      <td>0</td>\n",
       "      <td>0</td>\n",
       "      <td>0</td>\n",
       "      <td>1</td>\n",
       "      <td>...</td>\n",
       "      <td>0</td>\n",
       "      <td>1</td>\n",
       "      <td>0</td>\n",
       "      <td>0</td>\n",
       "      <td>0</td>\n",
       "      <td>0</td>\n",
       "      <td>0</td>\n",
       "      <td>0</td>\n",
       "      <td>0</td>\n",
       "      <td>0</td>\n",
       "    </tr>\n",
       "    <tr>\n",
       "      <th>3</th>\n",
       "      <td>1</td>\n",
       "      <td>53.0</td>\n",
       "      <td>7.0</td>\n",
       "      <td>0.0</td>\n",
       "      <td>0.0</td>\n",
       "      <td>40.0</td>\n",
       "      <td>0</td>\n",
       "      <td>1</td>\n",
       "      <td>0</td>\n",
       "      <td>1</td>\n",
       "      <td>...</td>\n",
       "      <td>0</td>\n",
       "      <td>1</td>\n",
       "      <td>0</td>\n",
       "      <td>0</td>\n",
       "      <td>0</td>\n",
       "      <td>0</td>\n",
       "      <td>0</td>\n",
       "      <td>0</td>\n",
       "      <td>0</td>\n",
       "      <td>0</td>\n",
       "    </tr>\n",
       "    <tr>\n",
       "      <th>4</th>\n",
       "      <td>0</td>\n",
       "      <td>28.0</td>\n",
       "      <td>13.0</td>\n",
       "      <td>0.0</td>\n",
       "      <td>0.0</td>\n",
       "      <td>40.0</td>\n",
       "      <td>0</td>\n",
       "      <td>1</td>\n",
       "      <td>0</td>\n",
       "      <td>1</td>\n",
       "      <td>...</td>\n",
       "      <td>0</td>\n",
       "      <td>0</td>\n",
       "      <td>0</td>\n",
       "      <td>0</td>\n",
       "      <td>0</td>\n",
       "      <td>1</td>\n",
       "      <td>0</td>\n",
       "      <td>0</td>\n",
       "      <td>0</td>\n",
       "      <td>0</td>\n",
       "    </tr>\n",
       "  </tbody>\n",
       "</table>\n",
       "<p>5 rows × 30 columns</p>\n",
       "</div>"
      ],
      "text/plain": [
       "   Sex   Age  Education Num  Capital Gain  Capital Loss  Hours/Week  \\\n",
       "0    1  39.0           13.0        2174.0           0.0        40.0   \n",
       "1    1  50.0           13.0           0.0           0.0        13.0   \n",
       "2    1  38.0            9.0           0.0           0.0        40.0   \n",
       "3    1  53.0            7.0           0.0           0.0        40.0   \n",
       "4    0  28.0           13.0           0.0           0.0        40.0   \n",
       "\n",
       "   Above 50K  Married  Gouv  Private              ...               \\\n",
       "0          0        0     1        0              ...                \n",
       "1          0        1     0        0              ...                \n",
       "2          0        0     0        1              ...                \n",
       "3          0        1     0        1              ...                \n",
       "4          0        1     0        1              ...                \n",
       "\n",
       "   Occupation_ Farming-fishing  Occupation_ Handlers-cleaners  \\\n",
       "0                            0                              0   \n",
       "1                            0                              0   \n",
       "2                            0                              1   \n",
       "3                            0                              1   \n",
       "4                            0                              0   \n",
       "\n",
       "   Occupation_ Machine-op-inspct  Occupation_ Other-service  \\\n",
       "0                              0                          0   \n",
       "1                              0                          0   \n",
       "2                              0                          0   \n",
       "3                              0                          0   \n",
       "4                              0                          0   \n",
       "\n",
       "   Occupation_ Priv-house-serv  Occupation_ Prof-specialty  \\\n",
       "0                            0                           0   \n",
       "1                            0                           0   \n",
       "2                            0                           0   \n",
       "3                            0                           0   \n",
       "4                            0                           1   \n",
       "\n",
       "   Occupation_ Protective-serv  Occupation_ Sales  Occupation_ Tech-support  \\\n",
       "0                            0                  0                         0   \n",
       "1                            0                  0                         0   \n",
       "2                            0                  0                         0   \n",
       "3                            0                  0                         0   \n",
       "4                            0                  0                         0   \n",
       "\n",
       "   Occupation_ Transport-moving  \n",
       "0                             0  \n",
       "1                             0  \n",
       "2                             0  \n",
       "3                             0  \n",
       "4                             0  \n",
       "\n",
       "[5 rows x 30 columns]"
      ]
     },
     "execution_count": 80,
     "metadata": {},
     "output_type": "execute_result"
    }
   ],
   "source": [
    "full_T=pd.concat( [  Sex, full , occupation ] , axis=1 )\n",
    "full_T.head()"
   ]
  },
  {
   "cell_type": "markdown",
   "metadata": {},
   "source": [
    "### 3.3 Séparation des bases \n",
    "\n",
    "Comme il est necessaire de comparer plusieurs modèles, nous allons séparer notre base en deux parties: \n",
    "* Une base *train* sur laquelle entrainer les modèles.\n",
    "* Une base *test* qui permettra d'évaluer et donc de comparer les modèles. Cela permet aussi de repérer le problème en cas d'**overfitting** ou suraprentissage, c'est à dire lorsque le modèle se contente d'apprendre parfaitement les données\n",
    "\n",
    "\n",
    "Pour cela, nous allons garder la répartition des bases fournies, où la base de test représentait environ un tier des individus.\n"
   ]
  },
  {
   "cell_type": "code",
   "execution_count": 81,
   "metadata": {},
   "outputs": [
    {
     "name": "stdout",
     "output_type": "stream",
     "text": [
      "(32000,) (32000, 29) (16842, 29) (16842,)\n"
     ]
    }
   ],
   "source": [
    "Y=full_T['Above 50K'][:32000]\n",
    "X= full_T.drop('Above 50K',1)[:32000]\n",
    "X_test=full_T.drop('Above 50K',1)[32000:]\n",
    "Y_test=full_T['Above 50K'][32000:]\n",
    "\n",
    "print( Y.shape, X.shape, X_test.shape, Y_test.shape )"
   ]
  },
  {
   "cell_type": "markdown",
   "metadata": {},
   "source": [
    "## 4. Modélisation\n",
    "\n",
    "Dans cette partie, nous allons :\n",
    "* Définir la validation croisée\n",
    "* Entrainer un modèle de Random Forest\n",
    "* Trouver les variables importantes pour ce modèle\n",
    "* Entrainer un modèle de KNN\n",
    "* Trouver le K optimal"
   ]
  },
  {
   "cell_type": "markdown",
   "metadata": {},
   "source": [
    "### 4.1 Validation croisée"
   ]
  },
  {
   "cell_type": "markdown",
   "metadata": {},
   "source": [
    "Nous allons utiliser une *10-fold cross validation* pour estimer la fiabilité des modèles, c'est à dire que nous allons séparer notre base en 10, entrainer le modèle sur 9 et la tester sur le 10iem, et répéter cela pour toutes les combinaisons.\n",
    "\n",
    "Nous allons utiliser l'option ‘accuracy‘ pour évaluer les modèles. C'est un ratio entre le nombre de bonne prédictions et le nombre total d'observations.\n",
    "\n",
    "Un *seed* fixe permet de réaliser l'algorithme sur des données séparées de la meme manière. Cela nous permet d'avoir des resultats fixes. "
   ]
  },
  {
   "cell_type": "code",
   "execution_count": 82,
   "metadata": {
    "collapsed": true
   },
   "outputs": [],
   "source": [
    "seed = 1"
   ]
  },
  {
   "cell_type": "markdown",
   "metadata": {},
   "source": [
    "## 4.2 Random Forest\n",
    "\n",
    "Le premier modèle que nous allons tester est un modèle de **forêt d'arbres décisionnels ou *Random Forest***. Il utilise des arbres de décisions.\n"
   ]
  },
  {
   "cell_type": "code",
   "execution_count": 83,
   "metadata": {
    "scrolled": true
   },
   "outputs": [
    {
     "data": {
      "text/plain": [
       "RandomForestClassifier(bootstrap=True, class_weight=None, criterion='gini',\n",
       "            max_depth=None, max_features='auto', max_leaf_nodes=None,\n",
       "            min_impurity_decrease=0.0, min_impurity_split=None,\n",
       "            min_samples_leaf=1, min_samples_split=2,\n",
       "            min_weight_fraction_leaf=0.0, n_estimators=100, n_jobs=1,\n",
       "            oob_score=False, random_state=1, verbose=0, warm_start=False)"
      ]
     },
     "execution_count": 83,
     "metadata": {},
     "output_type": "execute_result"
    }
   ],
   "source": [
    "rfc = RandomForestClassifier(n_estimators=100,random_state=seed)\n",
    "rfc.fit(X,Y)"
   ]
  },
  {
   "cell_type": "code",
   "execution_count": 84,
   "metadata": {},
   "outputs": [
    {
     "name": "stdout",
     "output_type": "stream",
     "text": [
      "0.848875638684\n"
     ]
    }
   ],
   "source": [
    "cvs1= cross_val_score(rfc, X, Y, cv = 10, scoring= 'accuracy')\n",
    "print(cvs1.mean())"
   ]
  },
  {
   "cell_type": "markdown",
   "metadata": {},
   "source": [
    "**La fiabilité générale est plutôt bonne, à 84.8%, et bien plus haute qu'une répartition au hasard.**\n",
    "\n",
    "Nous allons maintenant vérifier l'absence d'overfitting en testant la fiablité sur un ensemble de données inconnues au modèle."
   ]
  },
  {
   "cell_type": "code",
   "execution_count": 47,
   "metadata": {},
   "outputs": [
    {
     "name": "stdout",
     "output_type": "stream",
     "text": [
      "0.973125 0.847820923881\n"
     ]
    }
   ],
   "source": [
    "print (rfc.score( X , Y ) , rfc.score( X_test , Y_test ))"
   ]
  },
  {
   "cell_type": "markdown",
   "metadata": {},
   "source": [
    "Le score obtenu sur la base de test est très proche de celui obtenu par validation croisée. Le modele semble plutot robuste.\n",
    "\n",
    "Nous allons maintenant regarder les erreurs du modèle."
   ]
  },
  {
   "cell_type": "code",
   "execution_count": 85,
   "metadata": {},
   "outputs": [
    {
     "data": {
      "text/html": [
       "<div>\n",
       "<style>\n",
       "    .dataframe thead tr:only-child th {\n",
       "        text-align: right;\n",
       "    }\n",
       "\n",
       "    .dataframe thead th {\n",
       "        text-align: left;\n",
       "    }\n",
       "\n",
       "    .dataframe tbody tr th {\n",
       "        vertical-align: top;\n",
       "    }\n",
       "</style>\n",
       "<table border=\"1\" class=\"dataframe\">\n",
       "  <thead>\n",
       "    <tr style=\"text-align: right;\">\n",
       "      <th></th>\n",
       "      <th>Predicted &lt;50K</th>\n",
       "      <th>Predicted &gt;=50K</th>\n",
       "    </tr>\n",
       "  </thead>\n",
       "  <tbody>\n",
       "    <tr>\n",
       "      <th>True &lt;50K</th>\n",
       "      <td>11853</td>\n",
       "      <td>1010</td>\n",
       "    </tr>\n",
       "    <tr>\n",
       "      <th>True &gt;=50K</th>\n",
       "      <td>1553</td>\n",
       "      <td>2426</td>\n",
       "    </tr>\n",
       "  </tbody>\n",
       "</table>\n",
       "</div>"
      ],
      "text/plain": [
       "            Predicted <50K  Predicted >=50K\n",
       "True <50K            11853             1010\n",
       "True >=50K            1553             2426"
      ]
     },
     "execution_count": 85,
     "metadata": {},
     "output_type": "execute_result"
    }
   ],
   "source": [
    "Yrfc_predict = rfc.predict(X_test)\n",
    "pd.DataFrame(\n",
    "    confusion_matrix(Y_test, Yrfc_predict),\n",
    "    columns=['Predicted <50K', 'Predicted >=50K'],\n",
    "    index=['True <50K', 'True >=50K']\n",
    ")"
   ]
  },
  {
   "cell_type": "code",
   "execution_count": 86,
   "metadata": {},
   "outputs": [
    {
     "name": "stdout",
     "output_type": "stream",
     "text": [
      "             precision    recall  f1-score   support\n",
      "\n",
      "          0       0.88      0.92      0.90     12863\n",
      "          1       0.71      0.61      0.65      3979\n",
      "\n",
      "avg / total       0.84      0.85      0.84     16842\n",
      "\n"
     ]
    }
   ],
   "source": [
    "print(classification_report(Y_test, Yrfc_predict))"
   ]
  },
  {
   "cell_type": "markdown",
   "metadata": {},
   "source": [
    "**Visiblement, le modèle prédit bien mieux les bas salaires que les hauts.**\n",
    "\n",
    "On note que le *recall* est plutot bas pour la catégorie des hauts salaires, ce qui signifie que la proportion de faux négatifs est conséquente."
   ]
  },
  {
   "cell_type": "markdown",
   "metadata": {},
   "source": [
    "### 4.3 Variables importantes\n",
    "\n",
    "Nous allons maintenant voir quelles variables sont importantes pour ce modèle.\n",
    "\n"
   ]
  },
  {
   "cell_type": "code",
   "execution_count": 39,
   "metadata": {},
   "outputs": [
    {
     "data": {
      "text/plain": [
       "<matplotlib.axes._subplots.AxesSubplot at 0x2b62d5a4dd8>"
      ]
     },
     "execution_count": 39,
     "metadata": {},
     "output_type": "execute_result"
    },
    {
     "data": {
      "image/png": "[encoded data removed]",
      "text/plain": [
       "<matplotlib.figure.Figure at 0x2b62d5161d0>"
      ]
     },
     "metadata": {},
     "output_type": "display_data"
    }
   ],
   "source": [
    "features = pd.DataFrame()\n",
    "features['feature'] = X.columns\n",
    "features['importance'] = rfc.feature_importances_\n",
    "features.sort_values(by=['importance'], ascending=True, inplace=True)\n",
    "features.set_index('feature', inplace=True)\n",
    "features.plot(kind='barh', figsize=(20, 20))"
   ]
  },
  {
   "cell_type": "markdown",
   "metadata": {},
   "source": [
    "**L'*Age* a la plus forte importance.**\n",
    "Mais contrairement à ce que j'attendais, le *Sexe* n'arrive qu'en 7iem position, et la *Race* encore plus loin. \n",
    "\n",
    "La variable *Maried* par contre, a une forte influence. \n"
   ]
  },
  {
   "cell_type": "markdown",
   "metadata": {},
   "source": [
    "### 4.4 KNN\n",
    " Le second modèle est une **Méthode des k plus proches voisins ou KNN**.\n",
    " \n",
    " Le K est ici fixé de façon optimale à 11. Le processus pour l'obtenir, basé sur la validation croisée, est réalisé dans la partie suivante.\n",
    " \n",
    "On entraine tout d'abord le modèle."
   ]
  },
  {
   "cell_type": "code",
   "execution_count": 93,
   "metadata": {
    "scrolled": true
   },
   "outputs": [
    {
     "data": {
      "text/plain": [
       "KNeighborsClassifier(algorithm='auto', leaf_size=30, metric='minkowski',\n",
       "           metric_params=None, n_jobs=1, n_neighbors=11, p=2,\n",
       "           weights='uniform')"
      ]
     },
     "execution_count": 93,
     "metadata": {},
     "output_type": "execute_result"
    }
   ],
   "source": [
    "knc =  KNeighborsClassifier(n_neighbors=11)\n",
    "knc.fit(X,Y)"
   ]
  },
  {
   "cell_type": "markdown",
   "metadata": {},
   "source": [
    "Par validation croisée, on obtient un premier score de fiabilité."
   ]
  },
  {
   "cell_type": "code",
   "execution_count": 94,
   "metadata": {},
   "outputs": [
    {
     "name": "stdout",
     "output_type": "stream",
     "text": [
      "0.849250570108\n"
     ]
    }
   ],
   "source": [
    "cvs2= cross_val_score(knc, X, Y, cv = 10, scoring= 'accuracy')\n",
    "print(cvs2.mean())"
   ]
  },
  {
   "cell_type": "markdown",
   "metadata": {},
   "source": [
    "**La fiabilité générale est plutôt bonne, à 85%, légèrement supérieure à la Random Forest.**\n",
    "\n",
    "Nous allons maintenant vérifier l'absence d'overfitting en testant la fiablité sur un ensemble de données inconnues au modèle."
   ]
  },
  {
   "cell_type": "code",
   "execution_count": 95,
   "metadata": {},
   "outputs": [
    {
     "name": "stdout",
     "output_type": "stream",
     "text": [
      "0.87421875 0.851680323002\n"
     ]
    }
   ],
   "source": [
    "print (knc.score( X , Y ) , knc.score( X_test , Y_test ))"
   ]
  },
  {
   "cell_type": "markdown",
   "metadata": {},
   "source": [
    "Le score obtenu sur la base de test est très proche de celui obtenu par validation croisée. Le modèle semble plutot robuste.\n",
    "\n",
    "Nous allons maintenant regarder les erreurs du modèle.\n",
    "\n",
    "On isole tout d'abord les prédictions du modèle sur la base de test, et l'on s'en sert pour créer une matrice de confusion."
   ]
  },
  {
   "cell_type": "code",
   "execution_count": 96,
   "metadata": {
    "scrolled": true
   },
   "outputs": [
    {
     "data": {
      "text/html": [
       "<div>\n",
       "<style>\n",
       "    .dataframe thead tr:only-child th {\n",
       "        text-align: right;\n",
       "    }\n",
       "\n",
       "    .dataframe thead th {\n",
       "        text-align: left;\n",
       "    }\n",
       "\n",
       "    .dataframe tbody tr th {\n",
       "        vertical-align: top;\n",
       "    }\n",
       "</style>\n",
       "<table border=\"1\" class=\"dataframe\">\n",
       "  <thead>\n",
       "    <tr style=\"text-align: right;\">\n",
       "      <th></th>\n",
       "      <th>Predicted &lt;50K</th>\n",
       "      <th>Predicted &gt;=50K</th>\n",
       "    </tr>\n",
       "  </thead>\n",
       "  <tbody>\n",
       "    <tr>\n",
       "      <th>True &lt;50K</th>\n",
       "      <td>11944</td>\n",
       "      <td>919</td>\n",
       "    </tr>\n",
       "    <tr>\n",
       "      <th>True &gt;=50K</th>\n",
       "      <td>1579</td>\n",
       "      <td>2400</td>\n",
       "    </tr>\n",
       "  </tbody>\n",
       "</table>\n",
       "</div>"
      ],
      "text/plain": [
       "            Predicted <50K  Predicted >=50K\n",
       "True <50K            11944              919\n",
       "True >=50K            1579             2400"
      ]
     },
     "execution_count": 96,
     "metadata": {},
     "output_type": "execute_result"
    }
   ],
   "source": [
    "Yknc_predict = knc.predict(X_test)\n",
    "pd.DataFrame(\n",
    "    confusion_matrix(Y_test, Yknc_predict),\n",
    "    columns=['Predicted <50K', 'Predicted >=50K'],\n",
    "    index=['True <50K', 'True >=50K']\n",
    ")"
   ]
  },
  {
   "cell_type": "code",
   "execution_count": 97,
   "metadata": {},
   "outputs": [
    {
     "name": "stdout",
     "output_type": "stream",
     "text": [
      "             precision    recall  f1-score   support\n",
      "\n",
      "          0       0.88      0.93      0.91     12863\n",
      "          1       0.72      0.60      0.66      3979\n",
      "\n",
      "avg / total       0.85      0.85      0.85     16842\n",
      "\n"
     ]
    }
   ],
   "source": [
    "print(classification_report(Y_test, Yknc_predict))"
   ]
  },
  {
   "cell_type": "markdown",
   "metadata": {},
   "source": [
    "Ce modèle aussi prédit bien mieux les bas salaires que les hauts."
   ]
  },
  {
   "cell_type": "markdown",
   "metadata": {},
   "source": [
    "### 4.5 Choix de K\n",
    "\n",
    "Pour optimiser le choix de K, nous allons utiliser la validation croisée.\n",
    "\n",
    "Ici, le score utilisé est la **fiabilité**. Le choix d'un autre score comme le F1 ou le recall donnera un K optimal différent.\n",
    "\n",
    "Attention, due à la taille conséquente de la base, le processus prend plusieurs minutes."
   ]
  },
  {
   "cell_type": "code",
   "execution_count": 89,
   "metadata": {
    "collapsed": true
   },
   "outputs": [],
   "source": [
    "myList = list(range(1,50))\n",
    "\n",
    "# on ne garde que les impaires\n",
    "neighbors = [x for x in myList if x % 2 != 0]\n",
    "cv_scores = []\n",
    "\n",
    "# on utilise la validation croisée pour obtenir la fiabilité\n",
    "for k in neighbors:\n",
    "    knn = KNeighborsClassifier(n_neighbors=k)\n",
    "    scores = cross_val_score(knn, X, Y, cv=10, scoring='accuracy')\n",
    "    #scores = cross_val_score(knn, X, Y, cv=10, scoring='recall')\n",
    "    #scores = cross_val_score(knn, X, Y, cv=10, scoring='f1')\n",
    "    cv_scores.append(scores.mean())\n",
    "    "
   ]
  },
  {
   "cell_type": "markdown",
   "metadata": {},
   "source": [
    "On extrait ensuite l'erreur de classification, que l'on souhaite minimiser."
   ]
  },
  {
   "cell_type": "code",
   "execution_count": 90,
   "metadata": {
    "scrolled": true
   },
   "outputs": [
    {
     "name": "stdout",
     "output_type": "stream",
     "text": [
      "[0.18534334711910128, 0.16199932277215068, 0.15506179322197688, 0.15287448847956431, 0.15181200798029848, 0.15074942989191198, 0.15153067006219911, 0.151374263812184, 0.15240544548637158, 0.15128046502372694, 0.151686666186442, 0.15184297473747321, 0.15137423446952969, 0.15128065050653328, 0.15096799426262153, 0.15115553328240061, 0.1517807188689666, 0.15228087516781008, 0.15334330677485908, 0.15278094348751892, 0.15399951778559751, 0.15390579703059548, 0.15437466426083135, 0.15443724237363199, 0.15446847289120824]\n"
     ]
    }
   ],
   "source": [
    "# Erreur de classification\n",
    "MSE = [1 - x for x in cv_scores]\n",
    "print(MSE)"
   ]
  },
  {
   "cell_type": "markdown",
   "metadata": {},
   "source": [
    "On détermine le k optimal"
   ]
  },
  {
   "cell_type": "code",
   "execution_count": 91,
   "metadata": {},
   "outputs": [
    {
     "name": "stdout",
     "output_type": "stream",
     "text": [
      "Le nombre de voisins optimal est 11\n"
     ]
    }
   ],
   "source": [
    "\n",
    "optimal_k = neighbors[MSE.index(min(MSE))]\n",
    "\n",
    "print(\"Le nombre de voisins optimal est %d\" % optimal_k)\n"
   ]
  },
  {
   "cell_type": "markdown",
   "metadata": {},
   "source": [
    "On représente l'erreur de classification suivant K"
   ]
  },
  {
   "cell_type": "code",
   "execution_count": 92,
   "metadata": {},
   "outputs": [
    {
     "data": {
      "image/png": "[encoded data removed]",
      "text/plain": [
       "<matplotlib.figure.Figure at 0x26ec99947f0>"
      ]
     },
     "metadata": {},
     "output_type": "display_data"
    }
   ],
   "source": [
    "plt.plot(neighbors, MSE)\n",
    "plt.xlabel('Number of Neighbors K')\n",
    "plt.ylabel('Misclassification Error')\n",
    "plt.show()"
   ]
  },
  {
   "cell_type": "markdown",
   "metadata": {},
   "source": [
    "On obtient **K = 11** , la valeur choisie au paragraphe précédent."
   ]
  },
  {
   "cell_type": "markdown",
   "metadata": {},
   "source": [
    "## 5 Comparaisons\n",
    "\n",
    "Dans cette partie, nous allons :\n",
    "* Extraire les individus victimes d'erreurs sur chaque modèle\n",
    "* Comparer les individus faux positifs et faux négatifs pour chaque modèle\n",
    "* Chercher si les fausses prédictions sont les mêmes pour chaque modèle\n",
    "* Comparer globalement les deux modèles\n",
    "\n",
    "### 5.1 Extractions des erreurs"
   ]
  },
  {
   "cell_type": "markdown",
   "metadata": {},
   "source": [
    "On extrait les erreurs du modèle Random Forest en séparant faux positifs et faux négatifs."
   ]
  },
  {
   "cell_type": "code",
   "execution_count": 98,
   "metadata": {
    "collapsed": true
   },
   "outputs": [],
   "source": [
    "X_test['Miss_rfc_fp']= (Yrfc_predict - Y_test ==1)\n",
    "X_test['Miss_rfc_fn']= (Y_test-Yrfc_predict == 1)"
   ]
  },
  {
   "cell_type": "markdown",
   "metadata": {},
   "source": [
    "On extrait les erreurs du modèle KNN en séparant faux positifs et faux négatifs."
   ]
  },
  {
   "cell_type": "code",
   "execution_count": 99,
   "metadata": {
    "collapsed": true
   },
   "outputs": [],
   "source": [
    "X_test['Miss_knc_fp']= (Yknc_predict - Y_test ==1)\n",
    "X_test['Miss_knc_fn']= (Y_test-Yknc_predict == 1)"
   ]
  },
  {
   "cell_type": "markdown",
   "metadata": {},
   "source": [
    "### 5.2 Faux positifs et faux négatifs\n",
    "\n",
    "On sépare les faux négatifs du Random Forest selon l'age et le statut marital."
   ]
  },
  {
   "cell_type": "code",
   "execution_count": 100,
   "metadata": {},
   "outputs": [
    {
     "data": {
      "text/plain": [
       "<matplotlib.axes._subplots.AxesSubplot at 0x26ec9f54668>"
      ]
     },
     "execution_count": 100,
     "metadata": {},
     "output_type": "execute_result"
    },
    {
     "data": {
      "image/png": "[encoded data removed]",
      "text/plain": [
       "<matplotlib.figure.Figure at 0x26ec9708ba8>"
      ]
     },
     "metadata": {},
     "output_type": "display_data"
    }
   ],
   "source": [
    "sns.barplot(x = 'Married', y = 'Miss_rfc_fn', hue = 'Sex', data=X_test)"
   ]
  },
  {
   "cell_type": "markdown",
   "metadata": {},
   "source": [
    "On fait de même avec les faux négatifs du KNN"
   ]
  },
  {
   "cell_type": "code",
   "execution_count": 101,
   "metadata": {},
   "outputs": [
    {
     "data": {
      "text/plain": [
       "<matplotlib.axes._subplots.AxesSubplot at 0x26ec9ef49e8>"
      ]
     },
     "execution_count": 101,
     "metadata": {},
     "output_type": "execute_result"
    },
    {
     "data": {
      "image/png": "[encoded data removed]",
      "text/plain": [
       "<matplotlib.figure.Figure at 0x26ec87e9518>"
      ]
     },
     "metadata": {},
     "output_type": "display_data"
    }
   ],
   "source": [
    "sns.barplot(x = 'Married', y = 'Miss_knc_fn', hue = 'Sex', data=X_test)"
   ]
  },
  {
   "cell_type": "markdown",
   "metadata": {},
   "source": [
    "On note que les personnes mariées sont beaucoup plus touchées par l'erreur que les autres pour les deux modèles. La répartition selon les sexes diffère cependant pour chaque modèle."
   ]
  },
  {
   "cell_type": "markdown",
   "metadata": {},
   "source": [
    "On fait de même pour les faux positifs.\n",
    "\n",
    "On commence par les faux positifs du Random Forest"
   ]
  },
  {
   "cell_type": "code",
   "execution_count": 102,
   "metadata": {},
   "outputs": [
    {
     "data": {
      "text/plain": [
       "<matplotlib.axes._subplots.AxesSubplot at 0x26ec9f18128>"
      ]
     },
     "execution_count": 102,
     "metadata": {},
     "output_type": "execute_result"
    },
    {
     "data": {
      "image/png": "[encoded data removed]",
      "text/plain": [
       "<matplotlib.figure.Figure at 0x26ec9ed2c88>"
      ]
     },
     "metadata": {},
     "output_type": "display_data"
    }
   ],
   "source": [
    "sns.barplot(x = 'Married', y = 'Miss_rfc_fp', hue = 'Sex', data=X_test)"
   ]
  },
  {
   "cell_type": "markdown",
   "metadata": {},
   "source": [
    "Puis les faux positifs du KNN"
   ]
  },
  {
   "cell_type": "code",
   "execution_count": 103,
   "metadata": {},
   "outputs": [
    {
     "data": {
      "text/plain": [
       "<matplotlib.axes._subplots.AxesSubplot at 0x26eca590cf8>"
      ]
     },
     "execution_count": 103,
     "metadata": {},
     "output_type": "execute_result"
    },
    {
     "data": {
      "image/png": "[encoded data removed]",
      "text/plain": [
       "<matplotlib.figure.Figure at 0x26ec9630f60>"
      ]
     },
     "metadata": {},
     "output_type": "display_data"
    }
   ],
   "source": [
    "sns.barplot(x = 'Married', y = 'Miss_knc_fn', hue = 'Sex', data=X_test)"
   ]
  },
  {
   "cell_type": "markdown",
   "metadata": {
    "collapsed": true
   },
   "source": [
    "Les gens mariés ont beaucoup de faux positifs et de faux négatifs. Il doit donc y avoir une variable qui impacte principalement les gens mariés. \n",
    "\n",
    "Apres une recherche parmis toutes les autres variables, seule celle permettant de distinguer les parents célibataires apporte une précision reservée aux gens non mariés.Cependant, elle est minime. On peut supposer qu'une **variable manquante**, comme le fait d'avoir des enfants, entraine cette imprécisions supérieure pour les individus mariés."
   ]
  },
  {
   "cell_type": "markdown",
   "metadata": {},
   "source": [
    "### 5.3 Intersection des ensembles d'erreurs\n",
    "\n",
    "On cherche à savoir si les fausses prédictions sont les mêmes pour les deux modèles"
   ]
  },
  {
   "cell_type": "code",
   "execution_count": 104,
   "metadata": {},
   "outputs": [
    {
     "data": {
      "text/plain": [
       "<matplotlib.axes._subplots.AxesSubplot at 0x26eca5b6358>"
      ]
     },
     "execution_count": 104,
     "metadata": {},
     "output_type": "execute_result"
    },
    {
     "data": {
      "image/png": "[encoded data removed]",
      "text/plain": [
       "<matplotlib.figure.Figure at 0x26eca003390>"
      ]
     },
     "metadata": {},
     "output_type": "display_data"
    }
   ],
   "source": [
    "sns.barplot(x = 'Miss_rfc_fn', y = 'Miss_knc_fn', data=X_test)"
   ]
  },
  {
   "cell_type": "markdown",
   "metadata": {},
   "source": [
    "Effectivement, les faux négatifs sont principalement les mêmes.\n",
    "\n",
    "On fait de même pour les faux positifs."
   ]
  },
  {
   "cell_type": "code",
   "execution_count": 105,
   "metadata": {},
   "outputs": [
    {
     "data": {
      "text/plain": [
       "<matplotlib.axes._subplots.AxesSubplot at 0x26eca648710>"
      ]
     },
     "execution_count": 105,
     "metadata": {},
     "output_type": "execute_result"
    },
    {
     "data": {
      "image/png": "[encoded data removed]",
      "text/plain": [
       "<matplotlib.figure.Figure at 0x26eca670160>"
      ]
     },
     "metadata": {},
     "output_type": "display_data"
    }
   ],
   "source": [
    "sns.barplot(x = 'Miss_rfc_fp', y = 'Miss_knc_fp', data=X_test)"
   ]
  },
  {
   "cell_type": "markdown",
   "metadata": {},
   "source": [
    "Ici, il y a substantiellement moins de faux positifs en commun. C'est probablement du au fait que le KNN a un taux de recall plus haut pour les personnes au salaire inférieur à 50K. Etant donné que cela représente une grosse majorité des individus (Environ 75%), le nombre de faux positifs est très différent.\n",
    "\n",
    "### 5.4 Comparaison des deux modèles\n",
    "\n",
    "Les deux modèles ont une **fiabilité plutot haute (proche de 85%)**. Cependant, leur recall les différencie.\n",
    "\n",
    "En effet, avec le **Random Forest**, le niveau de recall pour les personnes gagnant plus de 50K est un peu plus haut (61% pour 60% avec le KNN). Cet algorithme est celui que l'on choisira si notre but est d'**éviter les faux négatifs**, par exemple pour une entreprise de publicité qui ne souhaite pas manquer des profils intéressants.\n",
    "\n",
    "Au contraire, le **KNN** possède un niveau de recall légèrement supérieur pour les personnes au salaire inférieur à 50K. Au vu de la taille de la base de test, la différence de 1% n'est pas négligeable puisqu'elle concerne environ 150 individus. Cet algorithme est celui que l'on choisira si notre but est d'**éviter les faux positifs**, par exemple pour une entreprise d'évaluation des candidats qui ne souhaite pas gaspiller ses ressources.\n",
    "\n",
    "Les algorithmes diffèrent selon d'autres aspects:\n",
    "\n",
    "\n",
    "Le KNN est coûteux en **puissance de calculs**, et le choix de son hyperparamètre **prend du temps**, pour un gain de précision limité. Ce n'est pas l'agorithme le plus efficace, surtout au vu de la taille de la base.\n",
    "\n",
    "Le random Forest est plus rapide, mais le **risque d'overfitting** est grand, surtout si l'on ne sélectionne pas les variables au préalable.\n",
    "\n",
    "\n",
    "## 6. Conclusion\n"
   ]
  },
  {
   "cell_type": "markdown",
   "metadata": {},
   "source": [
    "Au vu du niveau de *recall* pour les deux catégories, le modele n'est pas vraiment exploitable pour eviter les faux négatifs.\n",
    "Par contre, si la problématique posée est celle d'éviter les faux positifs, alors nos modeles sont acceptables.\n",
    "\n",
    "Dans ce cas, on se retrouve avec un arbitrage entre fiabilité et rapidité:\n",
    "* Si il s'agit d'une étude marketing souvent mise à à jour, comme pour une campagne publicitaire, il peut être préférable de sacrifier un peu de précision en utilisant le Random Forest, qui travaille bien plus rapidement.\n",
    "* Au contraire, si notre étude est une recherche sociologique dont les bases ne sont mises à jour qu'annuellement, voir moins que cela, le gain de précision de KNN pourra être favorisé."
   ]
  }
 ],
 "metadata": {
  "kernelspec": {
   "display_name": "Python 3",
   "language": "python",
   "name": "python3"
  },
  "language_info": {
   "codemirror_mode": {
    "name": "ipython",
    "version": 3
   },
   "file_extension": ".py",
   "mimetype": "text/x-python",
   "name": "python",
   "nbconvert_exporter": "python",
   "pygments_lexer": "ipython3",
   "version": "3.8.3"
  }
 },
 "nbformat": 4,
 "nbformat_minor": 2
}
